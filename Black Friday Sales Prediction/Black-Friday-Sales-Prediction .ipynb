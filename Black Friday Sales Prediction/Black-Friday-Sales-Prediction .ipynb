{
 "cells": [
  {
   "cell_type": "markdown",
   "id": "482a8b6d",
   "metadata": {
    "papermill": {
     "duration": 0.028371,
     "end_time": "2023-07-06T13:22:21.524501",
     "exception": false,
     "start_time": "2023-07-06T13:22:21.496130",
     "status": "completed"
    },
    "tags": []
   },
   "source": [
    "# Black Friday Sales Prediction"
   ]
  },
  {
   "cell_type": "code",
   "execution_count": 1,
   "id": "9743cc23",
   "metadata": {
    "_cell_guid": "b1076dfc-b9ad-4769-8c92-a6c4dae69d19",
    "_uuid": "8f2839f25d086af736a60e9eeb907d3b93b6e0e5",
    "execution": {
     "iopub.execute_input": "2023-07-06T13:22:21.575063Z",
     "iopub.status.busy": "2023-07-06T13:22:21.574502Z",
     "iopub.status.idle": "2023-07-06T13:22:23.072041Z",
     "shell.execute_reply": "2023-07-06T13:22:23.070527Z"
    },
    "papermill": {
     "duration": 1.526639,
     "end_time": "2023-07-06T13:22:23.075451",
     "exception": false,
     "start_time": "2023-07-06T13:22:21.548812",
     "status": "completed"
    },
    "tags": []
   },
   "outputs": [
    {
     "name": "stdout",
     "output_type": "stream",
     "text": [
      "/kaggle/input/black-friday-sales-data/train.csv\n"
     ]
    }
   ],
   "source": [
    "# Importing the required libraries\n",
    "\n",
    "import numpy as np \n",
    "import pandas as pd \n",
    "import seaborn as sns\n",
    "import matplotlib.pyplot as plt\n",
    "import warnings\n",
    "warnings.filterwarnings('ignore')\n",
    "import os\n",
    "for dirname, _, filenames in os.walk('/kaggle/input'):\n",
    "    for filename in filenames:\n",
    "        print(os.path.join(dirname, filename))\n"
   ]
  },
  {
   "cell_type": "code",
   "execution_count": 2,
   "id": "6a7760f0",
   "metadata": {
    "execution": {
     "iopub.execute_input": "2023-07-06T13:22:23.127862Z",
     "iopub.status.busy": "2023-07-06T13:22:23.126873Z",
     "iopub.status.idle": "2023-07-06T13:22:24.397171Z",
     "shell.execute_reply": "2023-07-06T13:22:24.395450Z"
    },
    "papermill": {
     "duration": 1.299437,
     "end_time": "2023-07-06T13:22:24.400396",
     "exception": false,
     "start_time": "2023-07-06T13:22:23.100959",
     "status": "completed"
    },
    "tags": []
   },
   "outputs": [],
   "source": [
    "bfs=pd.read_csv(\"/kaggle/input/black-friday-sales-data/train.csv\")"
   ]
  },
  {
   "cell_type": "code",
   "execution_count": 3,
   "id": "86b0c3d6",
   "metadata": {
    "execution": {
     "iopub.execute_input": "2023-07-06T13:22:24.450735Z",
     "iopub.status.busy": "2023-07-06T13:22:24.449592Z",
     "iopub.status.idle": "2023-07-06T13:22:24.481869Z",
     "shell.execute_reply": "2023-07-06T13:22:24.480168Z"
    },
    "papermill": {
     "duration": 0.060297,
     "end_time": "2023-07-06T13:22:24.484948",
     "exception": false,
     "start_time": "2023-07-06T13:22:24.424651",
     "status": "completed"
    },
    "tags": []
   },
   "outputs": [
    {
     "data": {
      "text/html": [
       "<div>\n",
       "<style scoped>\n",
       "    .dataframe tbody tr th:only-of-type {\n",
       "        vertical-align: middle;\n",
       "    }\n",
       "\n",
       "    .dataframe tbody tr th {\n",
       "        vertical-align: top;\n",
       "    }\n",
       "\n",
       "    .dataframe thead th {\n",
       "        text-align: right;\n",
       "    }\n",
       "</style>\n",
       "<table border=\"1\" class=\"dataframe\">\n",
       "  <thead>\n",
       "    <tr style=\"text-align: right;\">\n",
       "      <th></th>\n",
       "      <th>User_ID</th>\n",
       "      <th>Product_ID</th>\n",
       "      <th>Gender</th>\n",
       "      <th>Age</th>\n",
       "      <th>Occupation</th>\n",
       "      <th>City_Category</th>\n",
       "      <th>Stay_In_Current_City_Years</th>\n",
       "      <th>Marital_Status</th>\n",
       "      <th>Product_Category_1</th>\n",
       "      <th>Product_Category_2</th>\n",
       "      <th>Product_Category_3</th>\n",
       "      <th>Purchase</th>\n",
       "    </tr>\n",
       "  </thead>\n",
       "  <tbody>\n",
       "    <tr>\n",
       "      <th>0</th>\n",
       "      <td>1000001</td>\n",
       "      <td>P00069042</td>\n",
       "      <td>F</td>\n",
       "      <td>0-17</td>\n",
       "      <td>10</td>\n",
       "      <td>A</td>\n",
       "      <td>2</td>\n",
       "      <td>0</td>\n",
       "      <td>3</td>\n",
       "      <td>NaN</td>\n",
       "      <td>NaN</td>\n",
       "      <td>8370</td>\n",
       "    </tr>\n",
       "    <tr>\n",
       "      <th>1</th>\n",
       "      <td>1000001</td>\n",
       "      <td>P00248942</td>\n",
       "      <td>F</td>\n",
       "      <td>0-17</td>\n",
       "      <td>10</td>\n",
       "      <td>A</td>\n",
       "      <td>2</td>\n",
       "      <td>0</td>\n",
       "      <td>1</td>\n",
       "      <td>6.0</td>\n",
       "      <td>14.0</td>\n",
       "      <td>15200</td>\n",
       "    </tr>\n",
       "    <tr>\n",
       "      <th>2</th>\n",
       "      <td>1000001</td>\n",
       "      <td>P00087842</td>\n",
       "      <td>F</td>\n",
       "      <td>0-17</td>\n",
       "      <td>10</td>\n",
       "      <td>A</td>\n",
       "      <td>2</td>\n",
       "      <td>0</td>\n",
       "      <td>12</td>\n",
       "      <td>NaN</td>\n",
       "      <td>NaN</td>\n",
       "      <td>1422</td>\n",
       "    </tr>\n",
       "    <tr>\n",
       "      <th>3</th>\n",
       "      <td>1000001</td>\n",
       "      <td>P00085442</td>\n",
       "      <td>F</td>\n",
       "      <td>0-17</td>\n",
       "      <td>10</td>\n",
       "      <td>A</td>\n",
       "      <td>2</td>\n",
       "      <td>0</td>\n",
       "      <td>12</td>\n",
       "      <td>14.0</td>\n",
       "      <td>NaN</td>\n",
       "      <td>1057</td>\n",
       "    </tr>\n",
       "    <tr>\n",
       "      <th>4</th>\n",
       "      <td>1000002</td>\n",
       "      <td>P00285442</td>\n",
       "      <td>M</td>\n",
       "      <td>55+</td>\n",
       "      <td>16</td>\n",
       "      <td>C</td>\n",
       "      <td>4+</td>\n",
       "      <td>0</td>\n",
       "      <td>8</td>\n",
       "      <td>NaN</td>\n",
       "      <td>NaN</td>\n",
       "      <td>7969</td>\n",
       "    </tr>\n",
       "  </tbody>\n",
       "</table>\n",
       "</div>"
      ],
      "text/plain": [
       "   User_ID Product_ID Gender   Age  Occupation City_Category  \\\n",
       "0  1000001  P00069042      F  0-17          10             A   \n",
       "1  1000001  P00248942      F  0-17          10             A   \n",
       "2  1000001  P00087842      F  0-17          10             A   \n",
       "3  1000001  P00085442      F  0-17          10             A   \n",
       "4  1000002  P00285442      M   55+          16             C   \n",
       "\n",
       "  Stay_In_Current_City_Years  Marital_Status  Product_Category_1  \\\n",
       "0                          2               0                   3   \n",
       "1                          2               0                   1   \n",
       "2                          2               0                  12   \n",
       "3                          2               0                  12   \n",
       "4                         4+               0                   8   \n",
       "\n",
       "   Product_Category_2  Product_Category_3  Purchase  \n",
       "0                 NaN                 NaN      8370  \n",
       "1                 6.0                14.0     15200  \n",
       "2                 NaN                 NaN      1422  \n",
       "3                14.0                 NaN      1057  \n",
       "4                 NaN                 NaN      7969  "
      ]
     },
     "execution_count": 3,
     "metadata": {},
     "output_type": "execute_result"
    }
   ],
   "source": [
    "bfs.head()"
   ]
  },
  {
   "cell_type": "markdown",
   "id": "675fe890",
   "metadata": {
    "papermill": {
     "duration": 0.024976,
     "end_time": "2023-07-06T13:22:24.535879",
     "exception": false,
     "start_time": "2023-07-06T13:22:24.510903",
     "status": "completed"
    },
    "tags": []
   },
   "source": [
    "## Reading information about data"
   ]
  },
  {
   "cell_type": "code",
   "execution_count": 4,
   "id": "31dd9f54",
   "metadata": {
    "execution": {
     "iopub.execute_input": "2023-07-06T13:22:24.586476Z",
     "iopub.status.busy": "2023-07-06T13:22:24.586031Z",
     "iopub.status.idle": "2023-07-06T13:22:24.931492Z",
     "shell.execute_reply": "2023-07-06T13:22:24.929425Z"
    },
    "papermill": {
     "duration": 0.374604,
     "end_time": "2023-07-06T13:22:24.934597",
     "exception": false,
     "start_time": "2023-07-06T13:22:24.559993",
     "status": "completed"
    },
    "tags": []
   },
   "outputs": [
    {
     "name": "stdout",
     "output_type": "stream",
     "text": [
      "<class 'pandas.core.frame.DataFrame'>\n",
      "RangeIndex: 550068 entries, 0 to 550067\n",
      "Data columns (total 12 columns):\n",
      " #   Column                      Non-Null Count   Dtype  \n",
      "---  ------                      --------------   -----  \n",
      " 0   User_ID                     550068 non-null  int64  \n",
      " 1   Product_ID                  550068 non-null  object \n",
      " 2   Gender                      550068 non-null  object \n",
      " 3   Age                         550068 non-null  object \n",
      " 4   Occupation                  550068 non-null  int64  \n",
      " 5   City_Category               550068 non-null  object \n",
      " 6   Stay_In_Current_City_Years  550068 non-null  object \n",
      " 7   Marital_Status              550068 non-null  int64  \n",
      " 8   Product_Category_1          550068 non-null  int64  \n",
      " 9   Product_Category_2          376430 non-null  float64\n",
      " 10  Product_Category_3          166821 non-null  float64\n",
      " 11  Purchase                    550068 non-null  int64  \n",
      "dtypes: float64(2), int64(5), object(5)\n",
      "memory usage: 50.4+ MB\n"
     ]
    }
   ],
   "source": [
    "bfs.info()"
   ]
  },
  {
   "cell_type": "code",
   "execution_count": 5,
   "id": "def9edab",
   "metadata": {
    "execution": {
     "iopub.execute_input": "2023-07-06T13:22:24.988043Z",
     "iopub.status.busy": "2023-07-06T13:22:24.987159Z",
     "iopub.status.idle": "2023-07-06T13:22:24.997178Z",
     "shell.execute_reply": "2023-07-06T13:22:24.995980Z"
    },
    "papermill": {
     "duration": 0.041641,
     "end_time": "2023-07-06T13:22:25.000944",
     "exception": false,
     "start_time": "2023-07-06T13:22:24.959303",
     "status": "completed"
    },
    "tags": []
   },
   "outputs": [
    {
     "data": {
      "text/plain": [
       "Index(['User_ID', 'Product_ID', 'Gender', 'Age', 'Occupation', 'City_Category',\n",
       "       'Stay_In_Current_City_Years', 'Marital_Status', 'Product_Category_1',\n",
       "       'Product_Category_2', 'Product_Category_3', 'Purchase'],\n",
       "      dtype='object')"
      ]
     },
     "execution_count": 5,
     "metadata": {},
     "output_type": "execute_result"
    }
   ],
   "source": [
    "bfs.columns"
   ]
  },
  {
   "cell_type": "code",
   "execution_count": 6,
   "id": "48b4c67b",
   "metadata": {
    "execution": {
     "iopub.execute_input": "2023-07-06T13:22:25.055299Z",
     "iopub.status.busy": "2023-07-06T13:22:25.054674Z",
     "iopub.status.idle": "2023-07-06T13:22:25.559896Z",
     "shell.execute_reply": "2023-07-06T13:22:25.558444Z"
    },
    "papermill": {
     "duration": 0.535331,
     "end_time": "2023-07-06T13:22:25.563311",
     "exception": false,
     "start_time": "2023-07-06T13:22:25.027980",
     "status": "completed"
    },
    "tags": []
   },
   "outputs": [
    {
     "data": {
      "text/plain": [
       "False    550068\n",
       "dtype: int64"
      ]
     },
     "execution_count": 6,
     "metadata": {},
     "output_type": "execute_result"
    }
   ],
   "source": [
    "bfs.duplicated().value_counts()"
   ]
  },
  {
   "cell_type": "markdown",
   "id": "4fc443d5",
   "metadata": {
    "papermill": {
     "duration": 0.025583,
     "end_time": "2023-07-06T13:22:25.616229",
     "exception": false,
     "start_time": "2023-07-06T13:22:25.590646",
     "status": "completed"
    },
    "tags": []
   },
   "source": [
    "We are having total 550068 number of rows data including NaN value with no duplicated data. So, first task is to convert the given data into useful data."
   ]
  },
  {
   "cell_type": "code",
   "execution_count": 7,
   "id": "e9646659",
   "metadata": {
    "execution": {
     "iopub.execute_input": "2023-07-06T13:22:25.672773Z",
     "iopub.status.busy": "2023-07-06T13:22:25.671284Z",
     "iopub.status.idle": "2023-07-06T13:22:25.679776Z",
     "shell.execute_reply": "2023-07-06T13:22:25.678649Z"
    },
    "papermill": {
     "duration": 0.040738,
     "end_time": "2023-07-06T13:22:25.682823",
     "exception": false,
     "start_time": "2023-07-06T13:22:25.642085",
     "status": "completed"
    },
    "tags": []
   },
   "outputs": [],
   "source": [
    "bfs.rename(columns=str.lower,inplace=True) #Converting all the column names to lowercase for easy use."
   ]
  },
  {
   "cell_type": "code",
   "execution_count": 8,
   "id": "dc01e256",
   "metadata": {
    "execution": {
     "iopub.execute_input": "2023-07-06T13:22:25.737849Z",
     "iopub.status.busy": "2023-07-06T13:22:25.737326Z",
     "iopub.status.idle": "2023-07-06T13:22:25.745576Z",
     "shell.execute_reply": "2023-07-06T13:22:25.744519Z"
    },
    "papermill": {
     "duration": 0.038693,
     "end_time": "2023-07-06T13:22:25.748081",
     "exception": false,
     "start_time": "2023-07-06T13:22:25.709388",
     "status": "completed"
    },
    "tags": []
   },
   "outputs": [
    {
     "data": {
      "text/plain": [
       "Index(['user_id', 'product_id', 'gender', 'age', 'occupation', 'city_category',\n",
       "       'stay_in_current_city_years', 'marital_status', 'product_category_1',\n",
       "       'product_category_2', 'product_category_3', 'purchase'],\n",
       "      dtype='object')"
      ]
     },
     "execution_count": 8,
     "metadata": {},
     "output_type": "execute_result"
    }
   ],
   "source": [
    "bfs.columns"
   ]
  },
  {
   "cell_type": "markdown",
   "id": "d0173c3c",
   "metadata": {
    "papermill": {
     "duration": 0.025382,
     "end_time": "2023-07-06T13:22:25.798240",
     "exception": false,
     "start_time": "2023-07-06T13:22:25.772858",
     "status": "completed"
    },
    "tags": []
   },
   "source": [
    "## Processing each column individually"
   ]
  },
  {
   "cell_type": "markdown",
   "id": "2ca112d7",
   "metadata": {
    "papermill": {
     "duration": 0.026657,
     "end_time": "2023-07-06T13:22:25.850094",
     "exception": false,
     "start_time": "2023-07-06T13:22:25.823437",
     "status": "completed"
    },
    "tags": []
   },
   "source": [
    "### user_id: \n",
    "\n"
   ]
  },
  {
   "cell_type": "code",
   "execution_count": 9,
   "id": "f29c27c4",
   "metadata": {
    "execution": {
     "iopub.execute_input": "2023-07-06T13:22:25.904565Z",
     "iopub.status.busy": "2023-07-06T13:22:25.903822Z",
     "iopub.status.idle": "2023-07-06T13:22:25.915082Z",
     "shell.execute_reply": "2023-07-06T13:22:25.913729Z"
    },
    "papermill": {
     "duration": 0.042905,
     "end_time": "2023-07-06T13:22:25.918182",
     "exception": false,
     "start_time": "2023-07-06T13:22:25.875277",
     "status": "completed"
    },
    "tags": []
   },
   "outputs": [
    {
     "data": {
      "text/plain": [
       "0         1000001\n",
       "1         1000001\n",
       "2         1000001\n",
       "3         1000001\n",
       "4         1000002\n",
       "           ...   \n",
       "550063    1006033\n",
       "550064    1006035\n",
       "550065    1006036\n",
       "550066    1006038\n",
       "550067    1006039\n",
       "Name: user_id, Length: 550068, dtype: int64"
      ]
     },
     "execution_count": 9,
     "metadata": {},
     "output_type": "execute_result"
    }
   ],
   "source": [
    "bfs.user_id"
   ]
  },
  {
   "cell_type": "markdown",
   "id": "351e6fa4",
   "metadata": {
    "papermill": {
     "duration": 0.026119,
     "end_time": "2023-07-06T13:22:25.969139",
     "exception": false,
     "start_time": "2023-07-06T13:22:25.943020",
     "status": "completed"
    },
    "tags": []
   },
   "source": [
    "### product_id: \n"
   ]
  },
  {
   "cell_type": "code",
   "execution_count": 10,
   "id": "2aa85278",
   "metadata": {
    "execution": {
     "iopub.execute_input": "2023-07-06T13:22:26.024486Z",
     "iopub.status.busy": "2023-07-06T13:22:26.023537Z",
     "iopub.status.idle": "2023-07-06T13:22:26.034200Z",
     "shell.execute_reply": "2023-07-06T13:22:26.032929Z"
    },
    "papermill": {
     "duration": 0.040788,
     "end_time": "2023-07-06T13:22:26.036997",
     "exception": false,
     "start_time": "2023-07-06T13:22:25.996209",
     "status": "completed"
    },
    "tags": []
   },
   "outputs": [
    {
     "data": {
      "text/plain": [
       "0         P00069042\n",
       "1         P00248942\n",
       "2         P00087842\n",
       "3         P00085442\n",
       "4         P00285442\n",
       "            ...    \n",
       "550063    P00372445\n",
       "550064    P00375436\n",
       "550065    P00375436\n",
       "550066    P00375436\n",
       "550067    P00371644\n",
       "Name: product_id, Length: 550068, dtype: object"
      ]
     },
     "execution_count": 10,
     "metadata": {},
     "output_type": "execute_result"
    }
   ],
   "source": [
    "bfs.product_id"
   ]
  },
  {
   "cell_type": "markdown",
   "id": "22535266",
   "metadata": {
    "papermill": {
     "duration": 0.026476,
     "end_time": "2023-07-06T13:22:26.088573",
     "exception": false,
     "start_time": "2023-07-06T13:22:26.062097",
     "status": "completed"
    },
    "tags": []
   },
   "source": [
    "### gender: \n"
   ]
  },
  {
   "cell_type": "code",
   "execution_count": 11,
   "id": "6925143d",
   "metadata": {
    "execution": {
     "iopub.execute_input": "2023-07-06T13:22:26.142125Z",
     "iopub.status.busy": "2023-07-06T13:22:26.141659Z",
     "iopub.status.idle": "2023-07-06T13:22:26.198913Z",
     "shell.execute_reply": "2023-07-06T13:22:26.197001Z"
    },
    "papermill": {
     "duration": 0.088033,
     "end_time": "2023-07-06T13:22:26.202078",
     "exception": false,
     "start_time": "2023-07-06T13:22:26.114045",
     "status": "completed"
    },
    "tags": []
   },
   "outputs": [
    {
     "data": {
      "text/plain": [
       "array(['F', 'M'], dtype=object)"
      ]
     },
     "execution_count": 11,
     "metadata": {},
     "output_type": "execute_result"
    }
   ],
   "source": [
    "bfs.gender.unique()"
   ]
  },
  {
   "cell_type": "code",
   "execution_count": 12,
   "id": "d872ef1d",
   "metadata": {
    "execution": {
     "iopub.execute_input": "2023-07-06T13:22:26.254090Z",
     "iopub.status.busy": "2023-07-06T13:22:26.253542Z",
     "iopub.status.idle": "2023-07-06T13:22:26.273275Z",
     "shell.execute_reply": "2023-07-06T13:22:26.271945Z"
    },
    "papermill": {
     "duration": 0.049442,
     "end_time": "2023-07-06T13:22:26.276494",
     "exception": false,
     "start_time": "2023-07-06T13:22:26.227052",
     "status": "completed"
    },
    "tags": []
   },
   "outputs": [
    {
     "data": {
      "text/html": [
       "<div>\n",
       "<style scoped>\n",
       "    .dataframe tbody tr th:only-of-type {\n",
       "        vertical-align: middle;\n",
       "    }\n",
       "\n",
       "    .dataframe tbody tr th {\n",
       "        vertical-align: top;\n",
       "    }\n",
       "\n",
       "    .dataframe thead th {\n",
       "        text-align: right;\n",
       "    }\n",
       "</style>\n",
       "<table border=\"1\" class=\"dataframe\">\n",
       "  <thead>\n",
       "    <tr style=\"text-align: right;\">\n",
       "      <th></th>\n",
       "      <th>user_id</th>\n",
       "      <th>product_id</th>\n",
       "      <th>gender</th>\n",
       "      <th>age</th>\n",
       "      <th>occupation</th>\n",
       "      <th>city_category</th>\n",
       "      <th>stay_in_current_city_years</th>\n",
       "      <th>marital_status</th>\n",
       "      <th>product_category_1</th>\n",
       "      <th>product_category_2</th>\n",
       "      <th>product_category_3</th>\n",
       "      <th>purchase</th>\n",
       "    </tr>\n",
       "  </thead>\n",
       "  <tbody>\n",
       "    <tr>\n",
       "      <th>0</th>\n",
       "      <td>1000001</td>\n",
       "      <td>P00069042</td>\n",
       "      <td>F</td>\n",
       "      <td>0-17</td>\n",
       "      <td>10</td>\n",
       "      <td>A</td>\n",
       "      <td>2</td>\n",
       "      <td>0</td>\n",
       "      <td>3</td>\n",
       "      <td>NaN</td>\n",
       "      <td>NaN</td>\n",
       "      <td>8370</td>\n",
       "    </tr>\n",
       "    <tr>\n",
       "      <th>1</th>\n",
       "      <td>1000001</td>\n",
       "      <td>P00248942</td>\n",
       "      <td>F</td>\n",
       "      <td>0-17</td>\n",
       "      <td>10</td>\n",
       "      <td>A</td>\n",
       "      <td>2</td>\n",
       "      <td>0</td>\n",
       "      <td>1</td>\n",
       "      <td>6.0</td>\n",
       "      <td>14.0</td>\n",
       "      <td>15200</td>\n",
       "    </tr>\n",
       "  </tbody>\n",
       "</table>\n",
       "</div>"
      ],
      "text/plain": [
       "   user_id product_id gender   age  occupation city_category  \\\n",
       "0  1000001  P00069042      F  0-17          10             A   \n",
       "1  1000001  P00248942      F  0-17          10             A   \n",
       "\n",
       "  stay_in_current_city_years  marital_status  product_category_1  \\\n",
       "0                          2               0                   3   \n",
       "1                          2               0                   1   \n",
       "\n",
       "   product_category_2  product_category_3  purchase  \n",
       "0                 NaN                 NaN      8370  \n",
       "1                 6.0                14.0     15200  "
      ]
     },
     "execution_count": 12,
     "metadata": {},
     "output_type": "execute_result"
    }
   ],
   "source": [
    "bfs.head(2)"
   ]
  },
  {
   "cell_type": "markdown",
   "id": "a769cb75",
   "metadata": {
    "papermill": {
     "duration": 0.025363,
     "end_time": "2023-07-06T13:22:26.329230",
     "exception": false,
     "start_time": "2023-07-06T13:22:26.303867",
     "status": "completed"
    },
    "tags": []
   },
   "source": [
    "### age:\n"
   ]
  },
  {
   "cell_type": "code",
   "execution_count": 13,
   "id": "569b17a8",
   "metadata": {
    "execution": {
     "iopub.execute_input": "2023-07-06T13:22:26.382007Z",
     "iopub.status.busy": "2023-07-06T13:22:26.381506Z",
     "iopub.status.idle": "2023-07-06T13:22:26.441865Z",
     "shell.execute_reply": "2023-07-06T13:22:26.440481Z"
    },
    "papermill": {
     "duration": 0.090745,
     "end_time": "2023-07-06T13:22:26.445137",
     "exception": false,
     "start_time": "2023-07-06T13:22:26.354392",
     "status": "completed"
    },
    "tags": []
   },
   "outputs": [
    {
     "data": {
      "text/plain": [
       "array(['0-17', '55+', '26-35', '46-50', '51-55', '36-45', '18-25'],\n",
       "      dtype=object)"
      ]
     },
     "execution_count": 13,
     "metadata": {},
     "output_type": "execute_result"
    }
   ],
   "source": [
    "bfs.age.unique()"
   ]
  },
  {
   "cell_type": "markdown",
   "id": "aa904ab4",
   "metadata": {
    "papermill": {
     "duration": 0.025657,
     "end_time": "2023-07-06T13:22:26.497259",
     "exception": false,
     "start_time": "2023-07-06T13:22:26.471602",
     "status": "completed"
    },
    "tags": []
   },
   "source": [
    "We have total 7 age category customers data.\n",
    "\n",
    "'0-17', '18-25', '26-35', '36-45', '46-50', '51-55' and '55+'.\n"
   ]
  },
  {
   "cell_type": "markdown",
   "id": "8d2a8c20",
   "metadata": {
    "papermill": {
     "duration": 0.025149,
     "end_time": "2023-07-06T13:22:26.547743",
     "exception": false,
     "start_time": "2023-07-06T13:22:26.522594",
     "status": "completed"
    },
    "tags": []
   },
   "source": [
    "### occupation:\n",
    "\n",
    "Contains Occupation information of customers in the form of masked value format."
   ]
  },
  {
   "cell_type": "code",
   "execution_count": 14,
   "id": "64f1b15c",
   "metadata": {
    "execution": {
     "iopub.execute_input": "2023-07-06T13:22:26.603405Z",
     "iopub.status.busy": "2023-07-06T13:22:26.602431Z",
     "iopub.status.idle": "2023-07-06T13:22:26.619238Z",
     "shell.execute_reply": "2023-07-06T13:22:26.617847Z"
    },
    "papermill": {
     "duration": 0.047363,
     "end_time": "2023-07-06T13:22:26.622102",
     "exception": false,
     "start_time": "2023-07-06T13:22:26.574739",
     "status": "completed"
    },
    "tags": []
   },
   "outputs": [
    {
     "data": {
      "text/plain": [
       "(array([10, 16, 15,  7, 20,  9,  1, 12, 17,  0,  3,  4, 11,  8, 19,  2, 18,\n",
       "         5, 14, 13,  6]),\n",
       " 21,\n",
       " dtype('int64'))"
      ]
     },
     "execution_count": 14,
     "metadata": {},
     "output_type": "execute_result"
    }
   ],
   "source": [
    "bfs.occupation.unique(),len(bfs.occupation.unique()),bfs.occupation.dtype"
   ]
  },
  {
   "cell_type": "markdown",
   "id": "4753536a",
   "metadata": {
    "papermill": {
     "duration": 0.026315,
     "end_time": "2023-07-06T13:22:26.674832",
     "exception": false,
     "start_time": "2023-07-06T13:22:26.648517",
     "status": "completed"
    },
    "tags": []
   },
   "source": [
    "We have 21 different occupation types for customers "
   ]
  },
  {
   "cell_type": "markdown",
   "id": "fc44b804",
   "metadata": {
    "papermill": {
     "duration": 0.028013,
     "end_time": "2023-07-06T13:22:26.728542",
     "exception": false,
     "start_time": "2023-07-06T13:22:26.700529",
     "status": "completed"
    },
    "tags": []
   },
   "source": [
    "### city_category\n",
    "\n"
   ]
  },
  {
   "cell_type": "code",
   "execution_count": 15,
   "id": "21bc2033",
   "metadata": {
    "execution": {
     "iopub.execute_input": "2023-07-06T13:22:26.783402Z",
     "iopub.status.busy": "2023-07-06T13:22:26.782888Z",
     "iopub.status.idle": "2023-07-06T13:22:26.842531Z",
     "shell.execute_reply": "2023-07-06T13:22:26.840808Z"
    },
    "papermill": {
     "duration": 0.091022,
     "end_time": "2023-07-06T13:22:26.845903",
     "exception": false,
     "start_time": "2023-07-06T13:22:26.754881",
     "status": "completed"
    },
    "tags": []
   },
   "outputs": [
    {
     "data": {
      "text/plain": [
       "array(['A', 'C', 'B'], dtype=object)"
      ]
     },
     "execution_count": 15,
     "metadata": {},
     "output_type": "execute_result"
    }
   ],
   "source": [
    "bfs.city_category.unique()"
   ]
  },
  {
   "cell_type": "markdown",
   "id": "6d49a826",
   "metadata": {
    "papermill": {
     "duration": 0.026811,
     "end_time": "2023-07-06T13:22:26.898768",
     "exception": false,
     "start_time": "2023-07-06T13:22:26.871957",
     "status": "completed"
    },
    "tags": []
   },
   "source": [
    "### stay_in_current_city_years:\n"
   ]
  },
  {
   "cell_type": "code",
   "execution_count": 16,
   "id": "1fa48e35",
   "metadata": {
    "execution": {
     "iopub.execute_input": "2023-07-06T13:22:26.952856Z",
     "iopub.status.busy": "2023-07-06T13:22:26.952294Z",
     "iopub.status.idle": "2023-07-06T13:22:27.012687Z",
     "shell.execute_reply": "2023-07-06T13:22:27.011266Z"
    },
    "papermill": {
     "duration": 0.090734,
     "end_time": "2023-07-06T13:22:27.015636",
     "exception": false,
     "start_time": "2023-07-06T13:22:26.924902",
     "status": "completed"
    },
    "tags": []
   },
   "outputs": [
    {
     "data": {
      "text/plain": [
       "array(['2', '4+', '3', '1', '0'], dtype=object)"
      ]
     },
     "execution_count": 16,
     "metadata": {},
     "output_type": "execute_result"
    }
   ],
   "source": [
    "bfs.stay_in_current_city_years.unique()"
   ]
  },
  {
   "cell_type": "markdown",
   "id": "d5feaadd",
   "metadata": {
    "papermill": {
     "duration": 0.026922,
     "end_time": "2023-07-06T13:22:27.068795",
     "exception": false,
     "start_time": "2023-07-06T13:22:27.041873",
     "status": "completed"
    },
    "tags": []
   },
   "source": [
    "We have customer who are staying in city from '0', '1', '2', '3', '4+' years.\n",
    "\n",
    "We  can replace '4+' years to '4'.So that we can get exact number and we can assume that those customer are belonging to current city of 4 years are staying more than 4 years in the current city."
   ]
  },
  {
   "cell_type": "code",
   "execution_count": 17,
   "id": "3d567720",
   "metadata": {
    "execution": {
     "iopub.execute_input": "2023-07-06T13:22:27.126047Z",
     "iopub.status.busy": "2023-07-06T13:22:27.125547Z",
     "iopub.status.idle": "2023-07-06T13:22:27.271957Z",
     "shell.execute_reply": "2023-07-06T13:22:27.270444Z"
    },
    "papermill": {
     "duration": 0.178601,
     "end_time": "2023-07-06T13:22:27.274963",
     "exception": false,
     "start_time": "2023-07-06T13:22:27.096362",
     "status": "completed"
    },
    "tags": []
   },
   "outputs": [
    {
     "data": {
      "text/plain": [
       "array([2, 4, 3, 1, 0])"
      ]
     },
     "execution_count": 17,
     "metadata": {},
     "output_type": "execute_result"
    }
   ],
   "source": [
    "bfs.stay_in_current_city_years=bfs.stay_in_current_city_years.replace(\"4+\",'4').astype(int)\n",
    "bfs.stay_in_current_city_years.unique()"
   ]
  },
  {
   "cell_type": "markdown",
   "id": "8c32c01c",
   "metadata": {
    "papermill": {
     "duration": 0.027302,
     "end_time": "2023-07-06T13:22:27.328847",
     "exception": false,
     "start_time": "2023-07-06T13:22:27.301545",
     "status": "completed"
    },
    "tags": []
   },
   "source": [
    "Here, we got 0, 1, 2, 3, 4 years which integer values."
   ]
  },
  {
   "cell_type": "markdown",
   "id": "1c10684d",
   "metadata": {
    "papermill": {
     "duration": 0.026284,
     "end_time": "2023-07-06T13:22:27.381054",
     "exception": false,
     "start_time": "2023-07-06T13:22:27.354770",
     "status": "completed"
    },
    "tags": []
   },
   "source": [
    "### marital_status:\n",
    "\n"
   ]
  },
  {
   "cell_type": "code",
   "execution_count": 18,
   "id": "8b052781",
   "metadata": {
    "execution": {
     "iopub.execute_input": "2023-07-06T13:22:27.437508Z",
     "iopub.status.busy": "2023-07-06T13:22:27.437024Z",
     "iopub.status.idle": "2023-07-06T13:22:27.449821Z",
     "shell.execute_reply": "2023-07-06T13:22:27.448474Z"
    },
    "papermill": {
     "duration": 0.044197,
     "end_time": "2023-07-06T13:22:27.452652",
     "exception": false,
     "start_time": "2023-07-06T13:22:27.408455",
     "status": "completed"
    },
    "tags": []
   },
   "outputs": [
    {
     "data": {
      "text/plain": [
       "array([0, 1])"
      ]
     },
     "execution_count": 18,
     "metadata": {},
     "output_type": "execute_result"
    }
   ],
   "source": [
    "bfs.marital_status.unique()"
   ]
  },
  {
   "cell_type": "markdown",
   "id": "d155983d",
   "metadata": {
    "papermill": {
     "duration": 0.025942,
     "end_time": "2023-07-06T13:22:27.505693",
     "exception": false,
     "start_time": "2023-07-06T13:22:27.479751",
     "status": "completed"
    },
    "tags": []
   },
   "source": [
    "We assume that **0** means the customer married status is **single** and **1** means the customer is **married**. "
   ]
  },
  {
   "cell_type": "markdown",
   "id": "bd05eadd",
   "metadata": {
    "papermill": {
     "duration": 0.026823,
     "end_time": "2023-07-06T13:22:27.558805",
     "exception": false,
     "start_time": "2023-07-06T13:22:27.531982",
     "status": "completed"
    },
    "tags": []
   },
   "source": [
    "### product_category:\n",
    "\n",
    "\n",
    "\n"
   ]
  },
  {
   "cell_type": "code",
   "execution_count": 19,
   "id": "b392b3ea",
   "metadata": {
    "execution": {
     "iopub.execute_input": "2023-07-06T13:22:27.617667Z",
     "iopub.status.busy": "2023-07-06T13:22:27.617076Z",
     "iopub.status.idle": "2023-07-06T13:22:27.639075Z",
     "shell.execute_reply": "2023-07-06T13:22:27.637546Z"
    },
    "papermill": {
     "duration": 0.054187,
     "end_time": "2023-07-06T13:22:27.642060",
     "exception": false,
     "start_time": "2023-07-06T13:22:27.587873",
     "status": "completed"
    },
    "tags": []
   },
   "outputs": [
    {
     "data": {
      "text/html": [
       "<div>\n",
       "<style scoped>\n",
       "    .dataframe tbody tr th:only-of-type {\n",
       "        vertical-align: middle;\n",
       "    }\n",
       "\n",
       "    .dataframe tbody tr th {\n",
       "        vertical-align: top;\n",
       "    }\n",
       "\n",
       "    .dataframe thead th {\n",
       "        text-align: right;\n",
       "    }\n",
       "</style>\n",
       "<table border=\"1\" class=\"dataframe\">\n",
       "  <thead>\n",
       "    <tr style=\"text-align: right;\">\n",
       "      <th></th>\n",
       "      <th>user_id</th>\n",
       "      <th>product_id</th>\n",
       "      <th>gender</th>\n",
       "      <th>age</th>\n",
       "      <th>occupation</th>\n",
       "      <th>city_category</th>\n",
       "      <th>stay_in_current_city_years</th>\n",
       "      <th>marital_status</th>\n",
       "      <th>product_category_1</th>\n",
       "      <th>product_category_2</th>\n",
       "      <th>product_category_3</th>\n",
       "      <th>purchase</th>\n",
       "    </tr>\n",
       "  </thead>\n",
       "  <tbody>\n",
       "    <tr>\n",
       "      <th>0</th>\n",
       "      <td>1000001</td>\n",
       "      <td>P00069042</td>\n",
       "      <td>F</td>\n",
       "      <td>0-17</td>\n",
       "      <td>10</td>\n",
       "      <td>A</td>\n",
       "      <td>2</td>\n",
       "      <td>0</td>\n",
       "      <td>3</td>\n",
       "      <td>NaN</td>\n",
       "      <td>NaN</td>\n",
       "      <td>8370</td>\n",
       "    </tr>\n",
       "    <tr>\n",
       "      <th>1</th>\n",
       "      <td>1000001</td>\n",
       "      <td>P00248942</td>\n",
       "      <td>F</td>\n",
       "      <td>0-17</td>\n",
       "      <td>10</td>\n",
       "      <td>A</td>\n",
       "      <td>2</td>\n",
       "      <td>0</td>\n",
       "      <td>1</td>\n",
       "      <td>6.0</td>\n",
       "      <td>14.0</td>\n",
       "      <td>15200</td>\n",
       "    </tr>\n",
       "  </tbody>\n",
       "</table>\n",
       "</div>"
      ],
      "text/plain": [
       "   user_id product_id gender   age  occupation city_category  \\\n",
       "0  1000001  P00069042      F  0-17          10             A   \n",
       "1  1000001  P00248942      F  0-17          10             A   \n",
       "\n",
       "   stay_in_current_city_years  marital_status  product_category_1  \\\n",
       "0                           2               0                   3   \n",
       "1                           2               0                   1   \n",
       "\n",
       "   product_category_2  product_category_3  purchase  \n",
       "0                 NaN                 NaN      8370  \n",
       "1                 6.0                14.0     15200  "
      ]
     },
     "execution_count": 19,
     "metadata": {},
     "output_type": "execute_result"
    }
   ],
   "source": [
    "bfs.head(2)"
   ]
  },
  {
   "cell_type": "markdown",
   "id": "862ebede",
   "metadata": {
    "papermill": {
     "duration": 0.027169,
     "end_time": "2023-07-06T13:22:27.696364",
     "exception": false,
     "start_time": "2023-07-06T13:22:27.669195",
     "status": "completed"
    },
    "tags": []
   },
   "source": [
    "We have three different product categories columns, product_category_1, product_category_2 and product_category_3. \n"
   ]
  },
  {
   "cell_type": "code",
   "execution_count": 20,
   "id": "313eb0b5",
   "metadata": {
    "execution": {
     "iopub.execute_input": "2023-07-06T13:22:27.754715Z",
     "iopub.status.busy": "2023-07-06T13:22:27.754177Z",
     "iopub.status.idle": "2023-07-06T13:22:27.811774Z",
     "shell.execute_reply": "2023-07-06T13:22:27.809748Z"
    },
    "papermill": {
     "duration": 0.0915,
     "end_time": "2023-07-06T13:22:27.815628",
     "exception": false,
     "start_time": "2023-07-06T13:22:27.724128",
     "status": "completed"
    },
    "tags": []
   },
   "outputs": [
    {
     "name": "stdout",
     "output_type": "stream",
     "text": [
      "<class 'pandas.core.frame.DataFrame'>\n",
      "RangeIndex: 550068 entries, 0 to 550067\n",
      "Data columns (total 3 columns):\n",
      " #   Column              Non-Null Count   Dtype  \n",
      "---  ------              --------------   -----  \n",
      " 0   product_category_1  550068 non-null  int64  \n",
      " 1   product_category_2  376430 non-null  float64\n",
      " 2   product_category_3  166821 non-null  float64\n",
      "dtypes: float64(2), int64(1)\n",
      "memory usage: 12.6 MB\n"
     ]
    }
   ],
   "source": [
    "bfs[['product_category_1','product_category_2','product_category_3']].info()"
   ]
  },
  {
   "cell_type": "markdown",
   "id": "fd87422d",
   "metadata": {
    "papermill": {
     "duration": 0.028041,
     "end_time": "2023-07-06T13:22:27.873220",
     "exception": false,
     "start_time": "2023-07-06T13:22:27.845179",
     "status": "completed"
    },
    "tags": []
   },
   "source": [
    "Notice that product category having NaN values or empty values. Let's try to fill them by seeing another columns info."
   ]
  },
  {
   "cell_type": "code",
   "execution_count": 21,
   "id": "435803b7",
   "metadata": {
    "execution": {
     "iopub.execute_input": "2023-07-06T13:22:27.932435Z",
     "iopub.status.busy": "2023-07-06T13:22:27.931981Z",
     "iopub.status.idle": "2023-07-06T13:22:27.951995Z",
     "shell.execute_reply": "2023-07-06T13:22:27.950483Z"
    },
    "papermill": {
     "duration": 0.052797,
     "end_time": "2023-07-06T13:22:27.954660",
     "exception": false,
     "start_time": "2023-07-06T13:22:27.901863",
     "status": "completed"
    },
    "tags": []
   },
   "outputs": [
    {
     "data": {
      "text/html": [
       "<div>\n",
       "<style scoped>\n",
       "    .dataframe tbody tr th:only-of-type {\n",
       "        vertical-align: middle;\n",
       "    }\n",
       "\n",
       "    .dataframe tbody tr th {\n",
       "        vertical-align: top;\n",
       "    }\n",
       "\n",
       "    .dataframe thead th {\n",
       "        text-align: right;\n",
       "    }\n",
       "</style>\n",
       "<table border=\"1\" class=\"dataframe\">\n",
       "  <thead>\n",
       "    <tr style=\"text-align: right;\">\n",
       "      <th></th>\n",
       "      <th>user_id</th>\n",
       "      <th>product_id</th>\n",
       "      <th>gender</th>\n",
       "      <th>age</th>\n",
       "      <th>occupation</th>\n",
       "      <th>city_category</th>\n",
       "      <th>stay_in_current_city_years</th>\n",
       "      <th>marital_status</th>\n",
       "      <th>product_category_1</th>\n",
       "      <th>product_category_2</th>\n",
       "      <th>product_category_3</th>\n",
       "      <th>purchase</th>\n",
       "    </tr>\n",
       "  </thead>\n",
       "  <tbody>\n",
       "    <tr>\n",
       "      <th>0</th>\n",
       "      <td>1000001</td>\n",
       "      <td>P00069042</td>\n",
       "      <td>F</td>\n",
       "      <td>0-17</td>\n",
       "      <td>10</td>\n",
       "      <td>A</td>\n",
       "      <td>2</td>\n",
       "      <td>0</td>\n",
       "      <td>3</td>\n",
       "      <td>NaN</td>\n",
       "      <td>NaN</td>\n",
       "      <td>8370</td>\n",
       "    </tr>\n",
       "    <tr>\n",
       "      <th>1</th>\n",
       "      <td>1000001</td>\n",
       "      <td>P00248942</td>\n",
       "      <td>F</td>\n",
       "      <td>0-17</td>\n",
       "      <td>10</td>\n",
       "      <td>A</td>\n",
       "      <td>2</td>\n",
       "      <td>0</td>\n",
       "      <td>1</td>\n",
       "      <td>6.0</td>\n",
       "      <td>14.0</td>\n",
       "      <td>15200</td>\n",
       "    </tr>\n",
       "  </tbody>\n",
       "</table>\n",
       "</div>"
      ],
      "text/plain": [
       "   user_id product_id gender   age  occupation city_category  \\\n",
       "0  1000001  P00069042      F  0-17          10             A   \n",
       "1  1000001  P00248942      F  0-17          10             A   \n",
       "\n",
       "   stay_in_current_city_years  marital_status  product_category_1  \\\n",
       "0                           2               0                   3   \n",
       "1                           2               0                   1   \n",
       "\n",
       "   product_category_2  product_category_3  purchase  \n",
       "0                 NaN                 NaN      8370  \n",
       "1                 6.0                14.0     15200  "
      ]
     },
     "execution_count": 21,
     "metadata": {},
     "output_type": "execute_result"
    }
   ],
   "source": [
    "bfs.head(2)"
   ]
  },
  {
   "cell_type": "markdown",
   "id": "647ba167",
   "metadata": {
    "papermill": {
     "duration": 0.026995,
     "end_time": "2023-07-06T13:22:28.009457",
     "exception": false,
     "start_time": "2023-07-06T13:22:27.982462",
     "status": "completed"
    },
    "tags": []
   },
   "source": [
    "See we have two columns Gender and occupation. By seeing these two columns we can analyse that which column giving us a useful values to fill the nan values of product categories.\n",
    "\n",
    "Ex.:\n",
    "\n",
    "* By seeing the '**age**' column we can identify which product category are mostly used by the particular age of customer and we can fill that category value in place of nan values.\n",
    "* By seeing the '**occupation**' column we can identify which product category are mostly used by the particular customers depending on their occupation and we can fill that category value inplace of nan values.\n",
    "\n"
   ]
  },
  {
   "cell_type": "code",
   "execution_count": 22,
   "id": "9cc07384",
   "metadata": {
    "execution": {
     "iopub.execute_input": "2023-07-06T13:22:28.064990Z",
     "iopub.status.busy": "2023-07-06T13:22:28.064485Z",
     "iopub.status.idle": "2023-07-06T13:22:28.354127Z",
     "shell.execute_reply": "2023-07-06T13:22:28.352809Z"
    },
    "papermill": {
     "duration": 0.321456,
     "end_time": "2023-07-06T13:22:28.357564",
     "exception": false,
     "start_time": "2023-07-06T13:22:28.036108",
     "status": "completed"
    },
    "tags": []
   },
   "outputs": [],
   "source": [
    "a=bfs.groupby('age')['product_category_2'].agg(pd.Series.mode)\n",
    "b=bfs.groupby('age')['product_category_3'].agg(pd.Series.mode)\n",
    "c=bfs.groupby('occupation')['product_category_2'].agg(pd.Series.mode)\n",
    "d=bfs.groupby('occupation')['product_category_3'].agg(pd.Series.mode)"
   ]
  },
  {
   "cell_type": "code",
   "execution_count": 23,
   "id": "c31e6502",
   "metadata": {
    "execution": {
     "iopub.execute_input": "2023-07-06T13:22:28.414840Z",
     "iopub.status.busy": "2023-07-06T13:22:28.414347Z",
     "iopub.status.idle": "2023-07-06T13:22:28.473113Z",
     "shell.execute_reply": "2023-07-06T13:22:28.471133Z"
    },
    "papermill": {
     "duration": 0.091385,
     "end_time": "2023-07-06T13:22:28.476533",
     "exception": false,
     "start_time": "2023-07-06T13:22:28.385148",
     "status": "completed"
    },
    "tags": []
   },
   "outputs": [
    {
     "data": {
      "text/plain": [
       "age\n",
       "0-17     4.0\n",
       "18-25    8.0\n",
       "26-35    8.0\n",
       "36-45    8.0\n",
       "46-50    8.0\n",
       "51-55    8.0\n",
       "55+      8.0\n",
       "Name: product_category_2, dtype: float64"
      ]
     },
     "execution_count": 23,
     "metadata": {},
     "output_type": "execute_result"
    }
   ],
   "source": [
    "c=bfs.groupby('occupation')['product_category_2'].agg(pd.Series.mode)\n",
    "a"
   ]
  },
  {
   "cell_type": "code",
   "execution_count": 24,
   "id": "7b331229",
   "metadata": {
    "execution": {
     "iopub.execute_input": "2023-07-06T13:22:28.534005Z",
     "iopub.status.busy": "2023-07-06T13:22:28.533517Z",
     "iopub.status.idle": "2023-07-06T13:22:29.513997Z",
     "shell.execute_reply": "2023-07-06T13:22:29.512629Z"
    },
    "papermill": {
     "duration": 1.012256,
     "end_time": "2023-07-06T13:22:29.517278",
     "exception": false,
     "start_time": "2023-07-06T13:22:28.505022",
     "status": "completed"
    },
    "tags": []
   },
   "outputs": [
    {
     "data": {
      "image/png": "[encoded data removed]",
      "text/plain": [
       "<Figure size 1296x720 with 4 Axes>"
      ]
     },
     "metadata": {
      "needs_background": "light"
     },
     "output_type": "display_data"
    }
   ],
   "source": [
    "plt.figure(figsize=(18,10))\n",
    "plt.subplots_adjust(left=0.1,\n",
    "                    bottom=0.1,\n",
    "                    right=0.9,\n",
    "                    top=0.9,\n",
    "                    wspace=0.4,\n",
    "                    hspace=0.4)\n",
    "plt.subplot(2,2,1)\n",
    "a.plot(kind='bar',title=\"age_vs_product_category_2\")\n",
    "plt.subplot(2,2,2)\n",
    "b.plot(kind='bar',title=\"age_vs_product_category_3\")\n",
    "plt.subplot(2,2,3)\n",
    "c.plot(kind='bar',title=\"occupation_vs_product_category_2\")\n",
    "plt.subplot(2,2,4)\n",
    "d.plot(kind='bar',title=\"occupation_vs_product_category_3\")\n",
    "plt.show()\n",
    "\n",
    "# Here we trying to fill only product_category_2 and product_category_3 NaN values because product_category_1 having 0 NaN values."
   ]
  },
  {
   "cell_type": "markdown",
   "id": "2af532dd",
   "metadata": {
    "papermill": {
     "duration": 0.027717,
     "end_time": "2023-07-06T13:22:29.574581",
     "exception": false,
     "start_time": "2023-07-06T13:22:29.546864",
     "status": "completed"
    },
    "tags": []
   },
   "source": [
    "By comparing both '**age**' and '**occupation**' columns, we can see that **on the basis of occupation we are getting more and different product_categories which are mostly repeated.** \n",
    "\n",
    "So, **we can fill the nan product_category values corresponding to customer occupation.**\n"
   ]
  },
  {
   "cell_type": "code",
   "execution_count": 25,
   "id": "8ee1ce11",
   "metadata": {
    "execution": {
     "iopub.execute_input": "2023-07-06T13:22:29.632926Z",
     "iopub.status.busy": "2023-07-06T13:22:29.632398Z",
     "iopub.status.idle": "2023-07-06T13:22:29.640475Z",
     "shell.execute_reply": "2023-07-06T13:22:29.639084Z"
    },
    "papermill": {
     "duration": 0.041103,
     "end_time": "2023-07-06T13:22:29.643131",
     "exception": false,
     "start_time": "2023-07-06T13:22:29.602028",
     "status": "completed"
    },
    "tags": []
   },
   "outputs": [],
   "source": [
    "def fill_nan_category(category_colunm):\n",
    "    x=bfs.groupby('occupation')[category_colunm].agg(pd.Series.mode)\n",
    "    for i,j in zip(x.index,x):\n",
    "        bfs.loc[bfs['occupation']==i,category_colunm]=bfs.loc[bfs['occupation']==i,category_colunm].fillna(j)"
   ]
  },
  {
   "cell_type": "code",
   "execution_count": 26,
   "id": "84d7343f",
   "metadata": {
    "execution": {
     "iopub.execute_input": "2023-07-06T13:22:29.702749Z",
     "iopub.status.busy": "2023-07-06T13:22:29.701389Z",
     "iopub.status.idle": "2023-07-06T13:22:30.402013Z",
     "shell.execute_reply": "2023-07-06T13:22:30.400409Z"
    },
    "papermill": {
     "duration": 0.73381,
     "end_time": "2023-07-06T13:22:30.405256",
     "exception": false,
     "start_time": "2023-07-06T13:22:29.671446",
     "status": "completed"
    },
    "tags": []
   },
   "outputs": [],
   "source": [
    "fill_nan_category('product_category_1')\n",
    "fill_nan_category('product_category_2')\n",
    "fill_nan_category('product_category_3')\n",
    "bfs.product_category_1=bfs.product_category_1.astype(float)"
   ]
  },
  {
   "cell_type": "code",
   "execution_count": 27,
   "id": "27341390",
   "metadata": {
    "execution": {
     "iopub.execute_input": "2023-07-06T13:22:30.463823Z",
     "iopub.status.busy": "2023-07-06T13:22:30.463272Z",
     "iopub.status.idle": "2023-07-06T13:22:30.501425Z",
     "shell.execute_reply": "2023-07-06T13:22:30.499443Z"
    },
    "papermill": {
     "duration": 0.071642,
     "end_time": "2023-07-06T13:22:30.504692",
     "exception": false,
     "start_time": "2023-07-06T13:22:30.433050",
     "status": "completed"
    },
    "tags": []
   },
   "outputs": [
    {
     "name": "stdout",
     "output_type": "stream",
     "text": [
      "<class 'pandas.core.frame.DataFrame'>\n",
      "RangeIndex: 550068 entries, 0 to 550067\n",
      "Data columns (total 3 columns):\n",
      " #   Column              Non-Null Count   Dtype  \n",
      "---  ------              --------------   -----  \n",
      " 0   product_category_1  550068 non-null  float64\n",
      " 1   product_category_2  550068 non-null  float64\n",
      " 2   product_category_3  550068 non-null  float64\n",
      "dtypes: float64(3)\n",
      "memory usage: 12.6 MB\n"
     ]
    }
   ],
   "source": [
    "bfs[['product_category_1','product_category_2','product_category_3']].info()"
   ]
  },
  {
   "cell_type": "markdown",
   "id": "076c5bde",
   "metadata": {
    "papermill": {
     "duration": 0.02755,
     "end_time": "2023-07-06T13:22:30.561320",
     "exception": false,
     "start_time": "2023-07-06T13:22:30.533770",
     "status": "completed"
    },
    "tags": []
   },
   "source": [
    "Here, we have succesfully filled the NaN values with proper data. \n"
   ]
  },
  {
   "cell_type": "markdown",
   "id": "de6f3c53",
   "metadata": {
    "papermill": {
     "duration": 0.028169,
     "end_time": "2023-07-06T13:22:30.617463",
     "exception": false,
     "start_time": "2023-07-06T13:22:30.589294",
     "status": "completed"
    },
    "tags": []
   },
   "source": [
    "### purchase:\n",
    "\n"
   ]
  },
  {
   "cell_type": "code",
   "execution_count": 28,
   "id": "432c992d",
   "metadata": {
    "execution": {
     "iopub.execute_input": "2023-07-06T13:22:30.679205Z",
     "iopub.status.busy": "2023-07-06T13:22:30.678663Z",
     "iopub.status.idle": "2023-07-06T13:22:30.697104Z",
     "shell.execute_reply": "2023-07-06T13:22:30.695705Z"
    },
    "papermill": {
     "duration": 0.052429,
     "end_time": "2023-07-06T13:22:30.699956",
     "exception": false,
     "start_time": "2023-07-06T13:22:30.647527",
     "status": "completed"
    },
    "tags": []
   },
   "outputs": [
    {
     "data": {
      "text/plain": [
       "(array([ 8370, 15200,  1422, ...,   135,   123,   613]), 550068)"
      ]
     },
     "execution_count": 28,
     "metadata": {},
     "output_type": "execute_result"
    }
   ],
   "source": [
    "bfs.purchase.unique(),bfs.purchase.isnull().count()"
   ]
  },
  {
   "cell_type": "code",
   "execution_count": 29,
   "id": "f2993c00",
   "metadata": {
    "execution": {
     "iopub.execute_input": "2023-07-06T13:22:30.763137Z",
     "iopub.status.busy": "2023-07-06T13:22:30.762655Z",
     "iopub.status.idle": "2023-07-06T13:22:31.039025Z",
     "shell.execute_reply": "2023-07-06T13:22:31.037659Z"
    },
    "papermill": {
     "duration": 0.31361,
     "end_time": "2023-07-06T13:22:31.042047",
     "exception": false,
     "start_time": "2023-07-06T13:22:30.728437",
     "status": "completed"
    },
    "tags": []
   },
   "outputs": [
    {
     "name": "stdout",
     "output_type": "stream",
     "text": [
      "<class 'pandas.core.frame.DataFrame'>\n",
      "RangeIndex: 550068 entries, 0 to 550067\n",
      "Data columns (total 12 columns):\n",
      " #   Column                      Non-Null Count   Dtype  \n",
      "---  ------                      --------------   -----  \n",
      " 0   user_id                     550068 non-null  int64  \n",
      " 1   product_id                  550068 non-null  object \n",
      " 2   gender                      550068 non-null  object \n",
      " 3   age                         550068 non-null  object \n",
      " 4   occupation                  550068 non-null  int64  \n",
      " 5   city_category               550068 non-null  object \n",
      " 6   stay_in_current_city_years  550068 non-null  int64  \n",
      " 7   marital_status              550068 non-null  int64  \n",
      " 8   product_category_1          550068 non-null  float64\n",
      " 9   product_category_2          550068 non-null  float64\n",
      " 10  product_category_3          550068 non-null  float64\n",
      " 11  purchase                    550068 non-null  int64  \n",
      "dtypes: float64(3), int64(5), object(4)\n",
      "memory usage: 50.4+ MB\n"
     ]
    }
   ],
   "source": [
    "bfs.info()"
   ]
  },
  {
   "cell_type": "code",
   "execution_count": 30,
   "id": "7646d017",
   "metadata": {
    "execution": {
     "iopub.execute_input": "2023-07-06T13:22:31.104850Z",
     "iopub.status.busy": "2023-07-06T13:22:31.104354Z",
     "iopub.status.idle": "2023-07-06T13:22:31.127987Z",
     "shell.execute_reply": "2023-07-06T13:22:31.126521Z"
    },
    "papermill": {
     "duration": 0.057841,
     "end_time": "2023-07-06T13:22:31.130740",
     "exception": false,
     "start_time": "2023-07-06T13:22:31.072899",
     "status": "completed"
    },
    "tags": []
   },
   "outputs": [
    {
     "data": {
      "text/html": [
       "<div>\n",
       "<style scoped>\n",
       "    .dataframe tbody tr th:only-of-type {\n",
       "        vertical-align: middle;\n",
       "    }\n",
       "\n",
       "    .dataframe tbody tr th {\n",
       "        vertical-align: top;\n",
       "    }\n",
       "\n",
       "    .dataframe thead th {\n",
       "        text-align: right;\n",
       "    }\n",
       "</style>\n",
       "<table border=\"1\" class=\"dataframe\">\n",
       "  <thead>\n",
       "    <tr style=\"text-align: right;\">\n",
       "      <th></th>\n",
       "      <th>user_id</th>\n",
       "      <th>product_id</th>\n",
       "      <th>gender</th>\n",
       "      <th>age</th>\n",
       "      <th>occupation</th>\n",
       "      <th>city_category</th>\n",
       "      <th>stay_in_current_city_years</th>\n",
       "      <th>marital_status</th>\n",
       "      <th>product_category_1</th>\n",
       "      <th>product_category_2</th>\n",
       "      <th>product_category_3</th>\n",
       "      <th>purchase</th>\n",
       "    </tr>\n",
       "  </thead>\n",
       "  <tbody>\n",
       "    <tr>\n",
       "      <th>0</th>\n",
       "      <td>1000001</td>\n",
       "      <td>P00069042</td>\n",
       "      <td>F</td>\n",
       "      <td>0-17</td>\n",
       "      <td>10</td>\n",
       "      <td>A</td>\n",
       "      <td>2</td>\n",
       "      <td>0</td>\n",
       "      <td>3.0</td>\n",
       "      <td>4.0</td>\n",
       "      <td>16.0</td>\n",
       "      <td>8370</td>\n",
       "    </tr>\n",
       "    <tr>\n",
       "      <th>1</th>\n",
       "      <td>1000001</td>\n",
       "      <td>P00248942</td>\n",
       "      <td>F</td>\n",
       "      <td>0-17</td>\n",
       "      <td>10</td>\n",
       "      <td>A</td>\n",
       "      <td>2</td>\n",
       "      <td>0</td>\n",
       "      <td>1.0</td>\n",
       "      <td>6.0</td>\n",
       "      <td>14.0</td>\n",
       "      <td>15200</td>\n",
       "    </tr>\n",
       "    <tr>\n",
       "      <th>2</th>\n",
       "      <td>1000001</td>\n",
       "      <td>P00087842</td>\n",
       "      <td>F</td>\n",
       "      <td>0-17</td>\n",
       "      <td>10</td>\n",
       "      <td>A</td>\n",
       "      <td>2</td>\n",
       "      <td>0</td>\n",
       "      <td>12.0</td>\n",
       "      <td>4.0</td>\n",
       "      <td>16.0</td>\n",
       "      <td>1422</td>\n",
       "    </tr>\n",
       "    <tr>\n",
       "      <th>3</th>\n",
       "      <td>1000001</td>\n",
       "      <td>P00085442</td>\n",
       "      <td>F</td>\n",
       "      <td>0-17</td>\n",
       "      <td>10</td>\n",
       "      <td>A</td>\n",
       "      <td>2</td>\n",
       "      <td>0</td>\n",
       "      <td>12.0</td>\n",
       "      <td>14.0</td>\n",
       "      <td>16.0</td>\n",
       "      <td>1057</td>\n",
       "    </tr>\n",
       "    <tr>\n",
       "      <th>4</th>\n",
       "      <td>1000002</td>\n",
       "      <td>P00285442</td>\n",
       "      <td>M</td>\n",
       "      <td>55+</td>\n",
       "      <td>16</td>\n",
       "      <td>C</td>\n",
       "      <td>4</td>\n",
       "      <td>0</td>\n",
       "      <td>8.0</td>\n",
       "      <td>8.0</td>\n",
       "      <td>16.0</td>\n",
       "      <td>7969</td>\n",
       "    </tr>\n",
       "  </tbody>\n",
       "</table>\n",
       "</div>"
      ],
      "text/plain": [
       "   user_id product_id gender   age  occupation city_category  \\\n",
       "0  1000001  P00069042      F  0-17          10             A   \n",
       "1  1000001  P00248942      F  0-17          10             A   \n",
       "2  1000001  P00087842      F  0-17          10             A   \n",
       "3  1000001  P00085442      F  0-17          10             A   \n",
       "4  1000002  P00285442      M   55+          16             C   \n",
       "\n",
       "   stay_in_current_city_years  marital_status  product_category_1  \\\n",
       "0                           2               0                 3.0   \n",
       "1                           2               0                 1.0   \n",
       "2                           2               0                12.0   \n",
       "3                           2               0                12.0   \n",
       "4                           4               0                 8.0   \n",
       "\n",
       "   product_category_2  product_category_3  purchase  \n",
       "0                 4.0                16.0      8370  \n",
       "1                 6.0                14.0     15200  \n",
       "2                 4.0                16.0      1422  \n",
       "3                14.0                16.0      1057  \n",
       "4                 8.0                16.0      7969  "
      ]
     },
     "execution_count": 30,
     "metadata": {},
     "output_type": "execute_result"
    }
   ],
   "source": [
    "bfs.head()"
   ]
  },
  {
   "cell_type": "code",
   "execution_count": 31,
   "id": "3ca4a0dd",
   "metadata": {
    "execution": {
     "iopub.execute_input": "2023-07-06T13:22:31.191136Z",
     "iopub.status.busy": "2023-07-06T13:22:31.190634Z",
     "iopub.status.idle": "2023-07-06T13:22:35.631346Z",
     "shell.execute_reply": "2023-07-06T13:22:35.629951Z"
    },
    "papermill": {
     "duration": 4.475021,
     "end_time": "2023-07-06T13:22:35.634460",
     "exception": false,
     "start_time": "2023-07-06T13:22:31.159439",
     "status": "completed"
    },
    "tags": []
   },
   "outputs": [],
   "source": [
    "bfs.to_csv('./bfs_clean_data.csv') # Saivng cleaned dataset in output directory."
   ]
  },
  {
   "cell_type": "markdown",
   "id": "9350c959",
   "metadata": {
    "papermill": {
     "duration": 0.031417,
     "end_time": "2023-07-06T13:22:35.695747",
     "exception": false,
     "start_time": "2023-07-06T13:22:35.664330",
     "status": "completed"
    },
    "tags": []
   },
   "source": [
    "Therefore, we cleaned our data successfully without losing single value, we got total 550068 values.\n"
   ]
  },
  {
   "cell_type": "markdown",
   "id": "af883cf8",
   "metadata": {
    "papermill": {
     "duration": 0.028376,
     "end_time": "2023-07-06T13:22:35.753793",
     "exception": false,
     "start_time": "2023-07-06T13:22:35.725417",
     "status": "completed"
    },
    "tags": []
   },
   "source": [
    "## Data Visualization"
   ]
  },
  {
   "cell_type": "code",
   "execution_count": 32,
   "id": "72ea5f4d",
   "metadata": {
    "execution": {
     "iopub.execute_input": "2023-07-06T13:22:35.815467Z",
     "iopub.status.busy": "2023-07-06T13:22:35.814962Z",
     "iopub.status.idle": "2023-07-06T13:22:35.837836Z",
     "shell.execute_reply": "2023-07-06T13:22:35.836449Z"
    },
    "papermill": {
     "duration": 0.057254,
     "end_time": "2023-07-06T13:22:35.840693",
     "exception": false,
     "start_time": "2023-07-06T13:22:35.783439",
     "status": "completed"
    },
    "tags": []
   },
   "outputs": [
    {
     "data": {
      "text/html": [
       "<div>\n",
       "<style scoped>\n",
       "    .dataframe tbody tr th:only-of-type {\n",
       "        vertical-align: middle;\n",
       "    }\n",
       "\n",
       "    .dataframe tbody tr th {\n",
       "        vertical-align: top;\n",
       "    }\n",
       "\n",
       "    .dataframe thead th {\n",
       "        text-align: right;\n",
       "    }\n",
       "</style>\n",
       "<table border=\"1\" class=\"dataframe\">\n",
       "  <thead>\n",
       "    <tr style=\"text-align: right;\">\n",
       "      <th></th>\n",
       "      <th>user_id</th>\n",
       "      <th>product_id</th>\n",
       "      <th>gender</th>\n",
       "      <th>age</th>\n",
       "      <th>occupation</th>\n",
       "      <th>city_category</th>\n",
       "      <th>stay_in_current_city_years</th>\n",
       "      <th>marital_status</th>\n",
       "      <th>product_category_1</th>\n",
       "      <th>product_category_2</th>\n",
       "      <th>product_category_3</th>\n",
       "      <th>purchase</th>\n",
       "    </tr>\n",
       "  </thead>\n",
       "  <tbody>\n",
       "    <tr>\n",
       "      <th>0</th>\n",
       "      <td>1000001</td>\n",
       "      <td>P00069042</td>\n",
       "      <td>F</td>\n",
       "      <td>0-17</td>\n",
       "      <td>10</td>\n",
       "      <td>A</td>\n",
       "      <td>2</td>\n",
       "      <td>0</td>\n",
       "      <td>3.0</td>\n",
       "      <td>4.0</td>\n",
       "      <td>16.0</td>\n",
       "      <td>8370</td>\n",
       "    </tr>\n",
       "    <tr>\n",
       "      <th>1</th>\n",
       "      <td>1000001</td>\n",
       "      <td>P00248942</td>\n",
       "      <td>F</td>\n",
       "      <td>0-17</td>\n",
       "      <td>10</td>\n",
       "      <td>A</td>\n",
       "      <td>2</td>\n",
       "      <td>0</td>\n",
       "      <td>1.0</td>\n",
       "      <td>6.0</td>\n",
       "      <td>14.0</td>\n",
       "      <td>15200</td>\n",
       "    </tr>\n",
       "    <tr>\n",
       "      <th>2</th>\n",
       "      <td>1000001</td>\n",
       "      <td>P00087842</td>\n",
       "      <td>F</td>\n",
       "      <td>0-17</td>\n",
       "      <td>10</td>\n",
       "      <td>A</td>\n",
       "      <td>2</td>\n",
       "      <td>0</td>\n",
       "      <td>12.0</td>\n",
       "      <td>4.0</td>\n",
       "      <td>16.0</td>\n",
       "      <td>1422</td>\n",
       "    </tr>\n",
       "    <tr>\n",
       "      <th>3</th>\n",
       "      <td>1000001</td>\n",
       "      <td>P00085442</td>\n",
       "      <td>F</td>\n",
       "      <td>0-17</td>\n",
       "      <td>10</td>\n",
       "      <td>A</td>\n",
       "      <td>2</td>\n",
       "      <td>0</td>\n",
       "      <td>12.0</td>\n",
       "      <td>14.0</td>\n",
       "      <td>16.0</td>\n",
       "      <td>1057</td>\n",
       "    </tr>\n",
       "    <tr>\n",
       "      <th>4</th>\n",
       "      <td>1000002</td>\n",
       "      <td>P00285442</td>\n",
       "      <td>M</td>\n",
       "      <td>55+</td>\n",
       "      <td>16</td>\n",
       "      <td>C</td>\n",
       "      <td>4</td>\n",
       "      <td>0</td>\n",
       "      <td>8.0</td>\n",
       "      <td>8.0</td>\n",
       "      <td>16.0</td>\n",
       "      <td>7969</td>\n",
       "    </tr>\n",
       "  </tbody>\n",
       "</table>\n",
       "</div>"
      ],
      "text/plain": [
       "   user_id product_id gender   age  occupation city_category  \\\n",
       "0  1000001  P00069042      F  0-17          10             A   \n",
       "1  1000001  P00248942      F  0-17          10             A   \n",
       "2  1000001  P00087842      F  0-17          10             A   \n",
       "3  1000001  P00085442      F  0-17          10             A   \n",
       "4  1000002  P00285442      M   55+          16             C   \n",
       "\n",
       "   stay_in_current_city_years  marital_status  product_category_1  \\\n",
       "0                           2               0                 3.0   \n",
       "1                           2               0                 1.0   \n",
       "2                           2               0                12.0   \n",
       "3                           2               0                12.0   \n",
       "4                           4               0                 8.0   \n",
       "\n",
       "   product_category_2  product_category_3  purchase  \n",
       "0                 4.0                16.0      8370  \n",
       "1                 6.0                14.0     15200  \n",
       "2                 4.0                16.0      1422  \n",
       "3                14.0                16.0      1057  \n",
       "4                 8.0                16.0      7969  "
      ]
     },
     "execution_count": 32,
     "metadata": {},
     "output_type": "execute_result"
    }
   ],
   "source": [
    "bfs.head()"
   ]
  },
  {
   "cell_type": "markdown",
   "id": "f48f1180",
   "metadata": {
    "papermill": {
     "duration": 0.028484,
     "end_time": "2023-07-06T13:22:35.899312",
     "exception": false,
     "start_time": "2023-07-06T13:22:35.870828",
     "status": "completed"
    },
    "tags": []
   },
   "source": [
    "### 1) Check Distribution and Outliers of 'purchase'"
   ]
  },
  {
   "cell_type": "code",
   "execution_count": 33,
   "id": "1a83b98f",
   "metadata": {
    "execution": {
     "iopub.execute_input": "2023-07-06T13:22:35.962320Z",
     "iopub.status.busy": "2023-07-06T13:22:35.961829Z",
     "iopub.status.idle": "2023-07-06T13:22:38.596158Z",
     "shell.execute_reply": "2023-07-06T13:22:38.594721Z"
    },
    "papermill": {
     "duration": 2.669351,
     "end_time": "2023-07-06T13:22:38.599301",
     "exception": false,
     "start_time": "2023-07-06T13:22:35.929950",
     "status": "completed"
    },
    "tags": []
   },
   "outputs": [
    {
     "data": {
      "image/png": "[encoded data removed]",
      "text/plain": [
       "<Figure size 1080x360 with 2 Axes>"
      ]
     },
     "metadata": {
      "needs_background": "light"
     },
     "output_type": "display_data"
    }
   ],
   "source": [
    "plt.figure(figsize=(15,5))\n",
    "plt.subplots_adjust(left=0.1,\n",
    "                    bottom=0.1,\n",
    "                    right=1,\n",
    "                    top=0.9,\n",
    "                    wspace=0.4,\n",
    "                    hspace=0.4)\n",
    "plt.subplot(1,2,1)\n",
    "sns.kdeplot('purchase',data=bfs)\n",
    "plt.subplot(1,2,2)\n",
    "sns.boxplot(y='purchase',data=bfs)\n",
    "plt.show()"
   ]
  },
  {
   "cell_type": "markdown",
   "id": "6430c2c8",
   "metadata": {
    "papermill": {
     "duration": 0.031513,
     "end_time": "2023-07-06T13:22:38.662389",
     "exception": false,
     "start_time": "2023-07-06T13:22:38.630876",
     "status": "completed"
    },
    "tags": []
   },
   "source": [
    "We observed that most of the purchase value is between 5000 to 10000.  "
   ]
  },
  {
   "cell_type": "markdown",
   "id": "11bb780c",
   "metadata": {
    "papermill": {
     "duration": 0.032831,
     "end_time": "2023-07-06T13:22:38.787844",
     "exception": false,
     "start_time": "2023-07-06T13:22:38.755013",
     "status": "completed"
    },
    "tags": []
   },
   "source": [
    "#### 2) Find which kind of customer visits more frequently ? Male or Female?{'M','F'}."
   ]
  },
  {
   "cell_type": "code",
   "execution_count": 34,
   "id": "419076dd",
   "metadata": {
    "execution": {
     "iopub.execute_input": "2023-07-06T13:22:38.851650Z",
     "iopub.status.busy": "2023-07-06T13:22:38.851175Z",
     "iopub.status.idle": "2023-07-06T13:22:39.146365Z",
     "shell.execute_reply": "2023-07-06T13:22:39.143972Z"
    },
    "papermill": {
     "duration": 0.332118,
     "end_time": "2023-07-06T13:22:39.151804",
     "exception": false,
     "start_time": "2023-07-06T13:22:38.819686",
     "status": "completed"
    },
    "tags": []
   },
   "outputs": [
    {
     "data": {
      "image/png": "[encoded data removed]",
      "text/plain": [
       "<Figure size 360x360 with 1 Axes>"
      ]
     },
     "metadata": {},
     "output_type": "display_data"
    }
   ],
   "source": [
    "bfs.groupby('gender').agg({'gender':'count'}).gender.plot(kind='pie',autopct='%1.1f%%',figsize=(5,5),shadow=True)\n",
    "plt.show()"
   ]
  },
  {
   "cell_type": "markdown",
   "id": "bc5591f6",
   "metadata": {
    "papermill": {
     "duration": 0.031436,
     "end_time": "2023-07-06T13:22:39.247660",
     "exception": false,
     "start_time": "2023-07-06T13:22:39.216224",
     "status": "completed"
    },
    "tags": []
   },
   "source": [
    "We  can see that 75% Male customers visits frequently."
   ]
  },
  {
   "cell_type": "markdown",
   "id": "f2d2c46c",
   "metadata": {
    "papermill": {
     "duration": 0.02983,
     "end_time": "2023-07-06T13:22:39.310907",
     "exception": false,
     "start_time": "2023-07-06T13:22:39.281077",
     "status": "completed"
    },
    "tags": []
   },
   "source": [
    "#### 3) Purchase Distribution of 'Male' and 'Female' customers."
   ]
  },
  {
   "cell_type": "code",
   "execution_count": 35,
   "id": "f52bc5e9",
   "metadata": {
    "execution": {
     "iopub.execute_input": "2023-07-06T13:22:39.376796Z",
     "iopub.status.busy": "2023-07-06T13:22:39.375144Z",
     "iopub.status.idle": "2023-07-06T13:22:40.304339Z",
     "shell.execute_reply": "2023-07-06T13:22:40.302939Z"
    },
    "papermill": {
     "duration": 0.966429,
     "end_time": "2023-07-06T13:22:40.307756",
     "exception": false,
     "start_time": "2023-07-06T13:22:39.341327",
     "status": "completed"
    },
    "tags": []
   },
   "outputs": [
    {
     "data": {
      "image/png": "[encoded data removed]",
      "text/plain": [
       "<Figure size 720x288 with 2 Axes>"
      ]
     },
     "metadata": {
      "needs_background": "light"
     },
     "output_type": "display_data"
    }
   ],
   "source": [
    "plt.figure(figsize=(10,4))\n",
    "plt.subplots_adjust(left=0.1,\n",
    "                    bottom=0.1,\n",
    "                    right=1.2,\n",
    "                    top=0.9,\n",
    "                    wspace=0.4,\n",
    "                    hspace=0.4)\n",
    "ma=bfs[bfs['gender']=='M'].value_counts('purchase').reset_index()\n",
    "fe=bfs[bfs['gender']=='F'].value_counts('purchase').to_frame()\n",
    "plt.subplot(1,2,1)\n",
    "sns.kdeplot('purchase',data=ma).set_title('Male')\n",
    "plt.subplot(1,2,2)\n",
    "sns.kdeplot('purchase',data=fe).set_title('Female')\n",
    "plt.show()"
   ]
  },
  {
   "cell_type": "markdown",
   "id": "37a4d037",
   "metadata": {
    "papermill": {
     "duration": 0.031102,
     "end_time": "2023-07-06T13:22:40.370789",
     "exception": false,
     "start_time": "2023-07-06T13:22:40.339687",
     "status": "completed"
    },
    "tags": []
   },
   "source": [
    "#### 4) Find which kind of customer purchasing more ? Male or Female?{'M','F'}."
   ]
  },
  {
   "cell_type": "code",
   "execution_count": 36,
   "id": "6e1eecc1",
   "metadata": {
    "execution": {
     "iopub.execute_input": "2023-07-06T13:22:40.437203Z",
     "iopub.status.busy": "2023-07-06T13:22:40.436722Z",
     "iopub.status.idle": "2023-07-06T13:22:40.712256Z",
     "shell.execute_reply": "2023-07-06T13:22:40.710913Z"
    },
    "papermill": {
     "duration": 0.312315,
     "end_time": "2023-07-06T13:22:40.715722",
     "exception": false,
     "start_time": "2023-07-06T13:22:40.403407",
     "status": "completed"
    },
    "tags": []
   },
   "outputs": [
    {
     "data": {
      "text/html": [
       "<div>\n",
       "<style scoped>\n",
       "    .dataframe tbody tr th:only-of-type {\n",
       "        vertical-align: middle;\n",
       "    }\n",
       "\n",
       "    .dataframe tbody tr th {\n",
       "        vertical-align: top;\n",
       "    }\n",
       "\n",
       "    .dataframe thead th {\n",
       "        text-align: right;\n",
       "    }\n",
       "</style>\n",
       "<table border=\"1\" class=\"dataframe\">\n",
       "  <thead>\n",
       "    <tr style=\"text-align: right;\">\n",
       "      <th></th>\n",
       "      <th>gender</th>\n",
       "      <th>purchase</th>\n",
       "    </tr>\n",
       "  </thead>\n",
       "  <tbody>\n",
       "    <tr>\n",
       "      <th>0</th>\n",
       "      <td>F</td>\n",
       "      <td>1186232642</td>\n",
       "    </tr>\n",
       "    <tr>\n",
       "      <th>1</th>\n",
       "      <td>M</td>\n",
       "      <td>3909580100</td>\n",
       "    </tr>\n",
       "  </tbody>\n",
       "</table>\n",
       "</div>"
      ],
      "text/plain": [
       "  gender    purchase\n",
       "0      F  1186232642\n",
       "1      M  3909580100"
      ]
     },
     "execution_count": 36,
     "metadata": {},
     "output_type": "execute_result"
    },
    {
     "data": {
      "image/png": "[encoded data removed]",
      "text/plain": [
       "<Figure size 432x288 with 1 Axes>"
      ]
     },
     "metadata": {
      "needs_background": "light"
     },
     "output_type": "display_data"
    }
   ],
   "source": [
    "p=bfs.groupby('gender').agg({'purchase':sum}).reset_index()\n",
    "sns.barplot(x='gender',y='purchase',data=p)\n",
    "p"
   ]
  },
  {
   "cell_type": "markdown",
   "id": "6c2cba5e",
   "metadata": {
    "papermill": {
     "duration": 0.030922,
     "end_time": "2023-07-06T13:22:40.777911",
     "exception": false,
     "start_time": "2023-07-06T13:22:40.746989",
     "status": "completed"
    },
    "tags": []
   },
   "source": [
    "We observed that 'Male' customers are purchasing more."
   ]
  },
  {
   "cell_type": "markdown",
   "id": "66ef016e",
   "metadata": {
    "papermill": {
     "duration": 0.030928,
     "end_time": "2023-07-06T13:22:40.841054",
     "exception": false,
     "start_time": "2023-07-06T13:22:40.810126",
     "status": "completed"
    },
    "tags": []
   },
   "source": [
    "#### 5) Find which Product customer buying most by seaing product_id."
   ]
  },
  {
   "cell_type": "code",
   "execution_count": 37,
   "id": "dde9f89b",
   "metadata": {
    "execution": {
     "iopub.execute_input": "2023-07-06T13:22:40.908260Z",
     "iopub.status.busy": "2023-07-06T13:22:40.907780Z",
     "iopub.status.idle": "2023-07-06T13:22:41.978666Z",
     "shell.execute_reply": "2023-07-06T13:22:41.976865Z"
    },
    "papermill": {
     "duration": 1.109344,
     "end_time": "2023-07-06T13:22:41.982728",
     "exception": false,
     "start_time": "2023-07-06T13:22:40.873384",
     "status": "completed"
    },
    "tags": []
   },
   "outputs": [
    {
     "data": {
      "image/png": "[encoded data removed]",
      "text/plain": [
       "<Figure size 360x720 with 1 Axes>"
      ]
     },
     "metadata": {
      "needs_background": "light"
     },
     "output_type": "display_data"
    }
   ],
   "source": [
    "p_id=bfs.value_counts('product_id').sort_values(ascending=False).head(50)\n",
    "plt.figure(figsize=(5,10))\n",
    "sns.barplot(y=p_id.index,x=p_id)\n",
    "plt.show()"
   ]
  },
  {
   "cell_type": "markdown",
   "id": "69a28209",
   "metadata": {
    "papermill": {
     "duration": 0.032455,
     "end_time": "2023-07-06T13:22:42.048954",
     "exception": false,
     "start_time": "2023-07-06T13:22:42.016499",
     "status": "completed"
    },
    "tags": []
   },
   "source": [
    "Here are the 'top 50' product_id's which are customers buying most."
   ]
  },
  {
   "cell_type": "markdown",
   "id": "f2575e7d",
   "metadata": {
    "papermill": {
     "duration": 0.031683,
     "end_time": "2023-07-06T13:22:42.112835",
     "exception": false,
     "start_time": "2023-07-06T13:22:42.081152",
     "status": "completed"
    },
    "tags": []
   },
   "source": [
    "#### 6) Find 'sub_product' which is selling most from each product_category and which customer category buying that product most?{'M','F'}."
   ]
  },
  {
   "cell_type": "code",
   "execution_count": 38,
   "id": "d9837810",
   "metadata": {
    "execution": {
     "iopub.execute_input": "2023-07-06T13:22:42.180738Z",
     "iopub.status.busy": "2023-07-06T13:22:42.179746Z",
     "iopub.status.idle": "2023-07-06T13:22:44.193709Z",
     "shell.execute_reply": "2023-07-06T13:22:44.192066Z"
    },
    "papermill": {
     "duration": 2.051647,
     "end_time": "2023-07-06T13:22:44.196994",
     "exception": false,
     "start_time": "2023-07-06T13:22:42.145347",
     "status": "completed"
    },
    "tags": []
   },
   "outputs": [
    {
     "data": {
      "image/png": "[encoded data removed]",
      "text/plain": [
       "<Figure size 1080x360 with 3 Axes>"
      ]
     },
     "metadata": {
      "needs_background": "light"
     },
     "output_type": "display_data"
    }
   ],
   "source": [
    "c1=bfs.groupby('gender')['product_category_1'].value_counts().to_frame().rename(columns={\"product_category_1\":'p_count'}).reset_index()\n",
    "c2=bfs.groupby('gender')['product_category_2'].value_counts().to_frame().rename(columns={\"product_category_2\":'p_count'}).reset_index()\n",
    "c3=bfs.groupby('gender')['product_category_3'].value_counts().to_frame().rename(columns={\"product_category_3\":'p_count'}).reset_index()\n",
    "plt.figure(figsize=(15,5))\n",
    "plt.subplots_adjust(left=0.1,\n",
    "                    bottom=0.1,\n",
    "                    right=1.2,\n",
    "                    top=0.9,\n",
    "                    wspace=0.4,\n",
    "                    hspace=0.4)\n",
    "plt.subplot(1,3,1)\n",
    "sns.barplot(x='product_category_1',y='p_count',hue='gender',data=c1)\n",
    "plt.subplot(1,3,2)\n",
    "sns.barplot(x='product_category_2',y='p_count',hue='gender',data=c2)\n",
    "plt.subplot(1,3,3)\n",
    "sns.barplot(x='product_category_3',y='p_count',hue='gender',data=c3)\n",
    "plt.show()"
   ]
  },
  {
   "cell_type": "markdown",
   "id": "54fd0cf4",
   "metadata": {
    "papermill": {
     "duration": 0.035996,
     "end_time": "2023-07-06T13:22:44.267422",
     "exception": false,
     "start_time": "2023-07-06T13:22:44.231426",
     "status": "completed"
    },
    "tags": []
   },
   "source": [
    "Here we can see, we have three product_categories and on x-axis we having some values that are nothing but sub_products of that product_category in masked format.\n",
    "\n",
    "The graph showing that the sub_product count and the two colours bar are showing that the customer category count wich are buying that product.\n",
    "\n",
    "We observed that there are some sub_product's selling count is high and most of the 'Male' customers buying that product."
   ]
  },
  {
   "cell_type": "markdown",
   "id": "e693f14a",
   "metadata": {
    "papermill": {
     "duration": 0.032894,
     "end_time": "2023-07-06T13:22:44.402409",
     "exception": false,
     "start_time": "2023-07-06T13:22:44.369515",
     "status": "completed"
    },
    "tags": []
   },
   "source": [
    "#### 7) Purchase Distribution of Married and UnMarried customers."
   ]
  },
  {
   "cell_type": "code",
   "execution_count": 39,
   "id": "693dbeea",
   "metadata": {
    "execution": {
     "iopub.execute_input": "2023-07-06T13:22:44.472380Z",
     "iopub.status.busy": "2023-07-06T13:22:44.471836Z",
     "iopub.status.idle": "2023-07-06T13:22:45.197307Z",
     "shell.execute_reply": "2023-07-06T13:22:45.195815Z"
    },
    "papermill": {
     "duration": 0.76491,
     "end_time": "2023-07-06T13:22:45.200388",
     "exception": false,
     "start_time": "2023-07-06T13:22:44.435478",
     "status": "completed"
    },
    "tags": []
   },
   "outputs": [
    {
     "data": {
      "image/png": "[encoded data removed]",
      "text/plain": [
       "<Figure size 720x288 with 2 Axes>"
      ]
     },
     "metadata": {
      "needs_background": "light"
     },
     "output_type": "display_data"
    }
   ],
   "source": [
    "UM_P=bfs[bfs['marital_status']==0].value_counts('purchase').to_frame()\n",
    "M_P=bfs[bfs['marital_status']==1].value_counts('purchase').to_frame()\n",
    "plt.figure(figsize=(10,4))\n",
    "plt.subplots_adjust(left=0.1,\n",
    "                    bottom=0.1,\n",
    "                    right=1.2,\n",
    "                    top=0.9,\n",
    "                    wspace=0.4,\n",
    "                    hspace=0.4)\n",
    "plt.subplot(1,2,1)\n",
    "sns.kdeplot('purchase',data=UM_P).set_title('UnMarried')\n",
    "plt.subplot(1,2,2)\n",
    "sns.kdeplot('purchase',data=M_P).set_title('Married')\n",
    "plt.show()"
   ]
  },
  {
   "cell_type": "markdown",
   "id": "d30679c6",
   "metadata": {
    "papermill": {
     "duration": 0.034086,
     "end_time": "2023-07-06T13:22:45.269531",
     "exception": false,
     "start_time": "2023-07-06T13:22:45.235445",
     "status": "completed"
    },
    "tags": []
   },
   "source": [
    "Purchase distribution of both 'Married' and 'UnMarried' customers are quitely same."
   ]
  },
  {
   "cell_type": "markdown",
   "id": "21b747b5",
   "metadata": {
    "papermill": {
     "duration": 0.033486,
     "end_time": "2023-07-06T13:22:45.337433",
     "exception": false,
     "start_time": "2023-07-06T13:22:45.303947",
     "status": "completed"
    },
    "tags": []
   },
   "source": [
    "#### 8) Find which customer visits more frequently ? UnMarried or Married? {'UnMarried': 0, 'Married': 1}."
   ]
  },
  {
   "cell_type": "code",
   "execution_count": 40,
   "id": "f04384f4",
   "metadata": {
    "execution": {
     "iopub.execute_input": "2023-07-06T13:22:45.409996Z",
     "iopub.status.busy": "2023-07-06T13:22:45.409488Z",
     "iopub.status.idle": "2023-07-06T13:22:45.587721Z",
     "shell.execute_reply": "2023-07-06T13:22:45.586236Z"
    },
    "papermill": {
     "duration": 0.219636,
     "end_time": "2023-07-06T13:22:45.592174",
     "exception": false,
     "start_time": "2023-07-06T13:22:45.372538",
     "status": "completed"
    },
    "tags": []
   },
   "outputs": [
    {
     "data": {
      "image/png": "[encoded data removed]",
      "text/plain": [
       "<Figure size 360x360 with 1 Axes>"
      ]
     },
     "metadata": {},
     "output_type": "display_data"
    }
   ],
   "source": [
    "bfs.groupby('marital_status').agg({'marital_status':'count'}).marital_status.plot(kind='pie',autopct='%1.1f%%',figsize=(5,5),shadow=True)\n",
    "plt.show()"
   ]
  },
  {
   "cell_type": "markdown",
   "id": "14a868c2",
   "metadata": {
    "papermill": {
     "duration": 0.034751,
     "end_time": "2023-07-06T13:22:45.693185",
     "exception": false,
     "start_time": "2023-07-06T13:22:45.658434",
     "status": "completed"
    },
    "tags": []
   },
   "source": [
    "We observed that 'UnMarried' customers visiting frequently."
   ]
  },
  {
   "cell_type": "markdown",
   "id": "fa92fba6",
   "metadata": {
    "papermill": {
     "duration": 0.036348,
     "end_time": "2023-07-06T13:22:45.762856",
     "exception": false,
     "start_time": "2023-07-06T13:22:45.726508",
     "status": "completed"
    },
    "tags": []
   },
   "source": [
    "#### 9) Find which customer purchasing more (Married or UnMarried) and Top 10 products purcahsed by them."
   ]
  },
  {
   "cell_type": "code",
   "execution_count": 41,
   "id": "37b87d3c",
   "metadata": {
    "execution": {
     "iopub.execute_input": "2023-07-06T13:22:45.839797Z",
     "iopub.status.busy": "2023-07-06T13:22:45.839281Z",
     "iopub.status.idle": "2023-07-06T13:22:45.860456Z",
     "shell.execute_reply": "2023-07-06T13:22:45.858921Z"
    },
    "papermill": {
     "duration": 0.065659,
     "end_time": "2023-07-06T13:22:45.864090",
     "exception": false,
     "start_time": "2023-07-06T13:22:45.798431",
     "status": "completed"
    },
    "tags": []
   },
   "outputs": [
    {
     "data": {
      "text/html": [
       "<div>\n",
       "<style scoped>\n",
       "    .dataframe tbody tr th:only-of-type {\n",
       "        vertical-align: middle;\n",
       "    }\n",
       "\n",
       "    .dataframe tbody tr th {\n",
       "        vertical-align: top;\n",
       "    }\n",
       "\n",
       "    .dataframe thead th {\n",
       "        text-align: right;\n",
       "    }\n",
       "</style>\n",
       "<table border=\"1\" class=\"dataframe\">\n",
       "  <thead>\n",
       "    <tr style=\"text-align: right;\">\n",
       "      <th></th>\n",
       "      <th>user_id</th>\n",
       "      <th>product_id</th>\n",
       "      <th>gender</th>\n",
       "      <th>age</th>\n",
       "      <th>occupation</th>\n",
       "      <th>city_category</th>\n",
       "      <th>stay_in_current_city_years</th>\n",
       "      <th>marital_status</th>\n",
       "      <th>product_category_1</th>\n",
       "      <th>product_category_2</th>\n",
       "      <th>product_category_3</th>\n",
       "      <th>purchase</th>\n",
       "    </tr>\n",
       "  </thead>\n",
       "  <tbody>\n",
       "    <tr>\n",
       "      <th>0</th>\n",
       "      <td>1000001</td>\n",
       "      <td>P00069042</td>\n",
       "      <td>F</td>\n",
       "      <td>0-17</td>\n",
       "      <td>10</td>\n",
       "      <td>A</td>\n",
       "      <td>2</td>\n",
       "      <td>0</td>\n",
       "      <td>3.0</td>\n",
       "      <td>4.0</td>\n",
       "      <td>16.0</td>\n",
       "      <td>8370</td>\n",
       "    </tr>\n",
       "  </tbody>\n",
       "</table>\n",
       "</div>"
      ],
      "text/plain": [
       "   user_id product_id gender   age  occupation city_category  \\\n",
       "0  1000001  P00069042      F  0-17          10             A   \n",
       "\n",
       "   stay_in_current_city_years  marital_status  product_category_1  \\\n",
       "0                           2               0                 3.0   \n",
       "\n",
       "   product_category_2  product_category_3  purchase  \n",
       "0                 4.0                16.0      8370  "
      ]
     },
     "execution_count": 41,
     "metadata": {},
     "output_type": "execute_result"
    }
   ],
   "source": [
    "bfs.head(1)"
   ]
  },
  {
   "cell_type": "code",
   "execution_count": 42,
   "id": "4c3a337b",
   "metadata": {
    "execution": {
     "iopub.execute_input": "2023-07-06T13:22:45.935209Z",
     "iopub.status.busy": "2023-07-06T13:22:45.934740Z",
     "iopub.status.idle": "2023-07-06T13:22:46.840161Z",
     "shell.execute_reply": "2023-07-06T13:22:46.838629Z"
    },
    "papermill": {
     "duration": 0.943552,
     "end_time": "2023-07-06T13:22:46.843212",
     "exception": false,
     "start_time": "2023-07-06T13:22:45.899660",
     "status": "completed"
    },
    "tags": []
   },
   "outputs": [
    {
     "data": {
      "text/html": [
       "<div>\n",
       "<style scoped>\n",
       "    .dataframe tbody tr th:only-of-type {\n",
       "        vertical-align: middle;\n",
       "    }\n",
       "\n",
       "    .dataframe tbody tr th {\n",
       "        vertical-align: top;\n",
       "    }\n",
       "\n",
       "    .dataframe thead th {\n",
       "        text-align: right;\n",
       "    }\n",
       "</style>\n",
       "<table border=\"1\" class=\"dataframe\">\n",
       "  <thead>\n",
       "    <tr style=\"text-align: right;\">\n",
       "      <th></th>\n",
       "      <th>gender</th>\n",
       "      <th>marital_status</th>\n",
       "      <th>purchase</th>\n",
       "    </tr>\n",
       "  </thead>\n",
       "  <tbody>\n",
       "    <tr>\n",
       "      <th>0</th>\n",
       "      <td>F</td>\n",
       "      <td>0</td>\n",
       "      <td>684154127</td>\n",
       "    </tr>\n",
       "    <tr>\n",
       "      <th>1</th>\n",
       "      <td>F</td>\n",
       "      <td>1</td>\n",
       "      <td>502078515</td>\n",
       "    </tr>\n",
       "    <tr>\n",
       "      <th>2</th>\n",
       "      <td>M</td>\n",
       "      <td>0</td>\n",
       "      <td>2324773320</td>\n",
       "    </tr>\n",
       "    <tr>\n",
       "      <th>3</th>\n",
       "      <td>M</td>\n",
       "      <td>1</td>\n",
       "      <td>1584806780</td>\n",
       "    </tr>\n",
       "  </tbody>\n",
       "</table>\n",
       "</div>"
      ],
      "text/plain": [
       "  gender  marital_status    purchase\n",
       "0      F               0   684154127\n",
       "1      F               1   502078515\n",
       "2      M               0  2324773320\n",
       "3      M               1  1584806780"
      ]
     },
     "execution_count": 42,
     "metadata": {},
     "output_type": "execute_result"
    },
    {
     "data": {
      "image/png": "[encoded data removed]",
      "text/plain": [
       "<Figure size 432x288 with 3 Axes>"
      ]
     },
     "metadata": {
      "needs_background": "light"
     },
     "output_type": "display_data"
    }
   ],
   "source": [
    "M_UM_P=bfs.groupby(['gender','marital_status']).agg({'purchase':sum}).reset_index()\n",
    "UM=bfs[bfs['marital_status']==0].value_counts('product_id').nlargest(10)\n",
    "M=bfs[bfs['marital_status']==1].value_counts('product_id').nlargest(10)\n",
    "plt.subplots_adjust(left=1,\n",
    "                    bottom=1,\n",
    "                    right=3,\n",
    "                    top=3,\n",
    "                    wspace=0.4,\n",
    "                    hspace=0.4)\n",
    "plt.subplot(2,2,1)\n",
    "sns.barplot(x='marital_status',y='purchase',hue='gender',data=M_UM_P)\n",
    "plt.subplot(2,2,3)\n",
    "UM.plot(x=UM.index,y=UM,kind='bar',title='UnMarried_Customer')\n",
    "plt.subplot(2,2,4)\n",
    "M.plot(x=M.index,y=M,kind='bar',title='Married_Customer')\n",
    "M_UM_P"
   ]
  },
  {
   "cell_type": "markdown",
   "id": "57a9f313",
   "metadata": {
    "papermill": {
     "duration": 0.037265,
     "end_time": "2023-07-06T13:22:46.917970",
     "exception": false,
     "start_time": "2023-07-06T13:22:46.880705",
     "status": "completed"
    },
    "tags": []
   },
   "source": [
    "In the above plot we can see that 'UnMarried' customers purchasing more than the 'Married' customers.\n",
    "\n",
    "And BarPlot showing that top 10 Product Id's purshased by them frequently."
   ]
  },
  {
   "cell_type": "code",
   "execution_count": null,
   "id": "0c5d0172",
   "metadata": {
    "papermill": {
     "duration": 0.034029,
     "end_time": "2023-07-06T13:22:47.059060",
     "exception": false,
     "start_time": "2023-07-06T13:22:47.025031",
     "status": "completed"
    },
    "tags": []
   },
   "outputs": [],
   "source": []
  }
 ],
 "metadata": {
  "kernelspec": {
   "display_name": "Python 3 (ipykernel)",
   "language": "python",
   "name": "python3"
  },
  "language_info": {
   "codemirror_mode": {
    "name": "ipython",
    "version": 3
   },
   "file_extension": ".py",
   "mimetype": "text/x-python",
   "name": "python",
   "nbconvert_exporter": "python",
   "pygments_lexer": "ipython3",
   "version": "3.9.13"
  },
  "papermill": {
   "default_parameters": {},
   "duration": 41.525816,
   "end_time": "2023-07-06T13:22:48.218309",
   "environment_variables": {},
   "exception": null,
   "input_path": "__notebook__.ipynb",
   "output_path": "__notebook__.ipynb",
   "parameters": {},
   "start_time": "2023-07-06T13:22:06.692493",
   "version": "2.3.4"
  }
 },
 "nbformat": 4,
 "nbformat_minor": 5
}
